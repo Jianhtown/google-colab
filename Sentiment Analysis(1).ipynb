{
 "cells": [
  {
   "cell_type": "code",
   "execution_count": 15,
   "metadata": {},
   "outputs": [],
   "source": [
    "import numpy as np\n",
    "import pandas as pd\n",
    "import matplotlib.pyplot as plt\n",
    "import nltk\n",
    "import spacy\n",
    "import re"
   ]
  },
  {
   "cell_type": "markdown",
   "metadata": {},
   "source": [
    "### NOTE: Due to the long running time of cleaning the reviews, a file with cleaned reviews is generated beforehand."
   ]
  },
  {
   "cell_type": "markdown",
   "metadata": {},
   "source": [
    "# Comparing Raw and Cleaned Movie Review"
   ]
  },
  {
   "cell_type": "code",
   "execution_count": 2,
   "metadata": {},
   "outputs": [
    {
     "name": "stdout",
     "output_type": "stream",
     "text": [
      "Original Review:\n",
      "\n",
      "Story of a man who has unnatural feelings for a pig. Starts out with a opening scene that is a terrific example of absurd comedy. A formal orchestra audience is turned into an insane  violent mob by the crazy chantings of it's singers. Unfortunately it stays absurd the WHOLE time with no general narrative eventually making it just too off putting. Even those from the era should be turned off. The cryptic dialogue would make Shakespeare seem easy to a third grader. On a technical level it's better than you might think with some good cinematography by future great Vilmos Zsigmond. Future stars Sally Kirkland and Frederic Forrest can be seen briefly.\n",
      "Length:  655\n",
      "------------------------------\n",
      "Cleaned Review:\n",
      "\n",
      "story man unnatural feel pig start open scene terrific example absurd comedy formal orchestra audience turn insane violent mob crazy chant singers unfortunately stay absurd whole time general narrative eventually make put even era turn cryptic dialogue would make shakespeare seem easy third grader technical level better might think good cinematography future great vilmos zsigmond future star sally kirkland frederic forrest see briefly\n",
      "Length:  438\n"
     ]
    }
   ],
   "source": [
    "df = pd.read_csv(\"./movie_reviews_cleaned.csv\")\n",
    "print(\"Original Review:\\n\")\n",
    "print(df['review'][0])\n",
    "print(\"Length: \", len(df['review'][0]))\n",
    "print(\"------------------------------\")\n",
    "print(\"Cleaned Review:\\n\")\n",
    "print(df['cleaned_review'][0])\n",
    "print(\"Length: \", len(df['cleaned_review'][0]))"
   ]
  },
  {
   "cell_type": "code",
   "execution_count": 31,
   "metadata": {},
   "outputs": [
    {
     "name": "stdout",
     "output_type": "stream",
     "text": [
      "['', 'This', 'is', 'an', 'important', 'text', '']\n",
      "['This', 'is', 'an', 'important', 'text']\n"
     ]
    }
   ],
   "source": [
    "'''\n",
    "nlp = spacy.load(\"en_core_web_sm\")\n",
    "doc = nlp(\"story man unnatural feel pig start open scene terrific example absurd comedy formal orchestra audience turn insane violent mob crazy chant singers unfortunately stay absurd whole time general narrative eventually make put even era turn cryptic dialogue would make shakespeare seem easy third grader technical level better might think good cinematography future great vilmos zsigmond future star sally kirkland frederic forrest see briefly\")\n",
    "for ent in doc.ents:\n",
    "    print(ent.text, ent.start_char, ent.end_char, ent.label_)\n",
    "'''\n",
    "text = \" This is an important text \"\n",
    "toks = nltk.word_tokenize(text)\n",
    "x = text.split(' ')\n",
    "print(x)\n",
    "print(toks)"
   ]
  },
  {
   "cell_type": "markdown",
   "metadata": {},
   "source": [
    "# Data Exploration"
   ]
  },
  {
   "cell_type": "markdown",
   "metadata": {},
   "source": [
    "## Negative Reviews Exploration"
   ]
  },
  {
   "cell_type": "code",
   "execution_count": 11,
   "metadata": {},
   "outputs": [
    {
     "name": "stdout",
     "output_type": "stream",
     "text": [
      "There are 25000 negative reviews.\n"
     ]
    }
   ],
   "source": [
    "neg_df = df[df['label']==0]\n",
    "num_sample, num_col = neg_df.shape\n",
    "print(\"There are %d negative reviews.\" % num_sample)"
   ]
  },
  {
   "cell_type": "markdown",
   "metadata": {},
   "source": [
    "### Top 20 POS Pattern (Using original reviews)"
   ]
  },
  {
   "cell_type": "code",
   "execution_count": 32,
   "metadata": {},
   "outputs": [],
   "source": [
    "def build_reverse_dict(target_dict):\n",
    "    count_rev_dict = {}\n",
    "    for k,v in target_dict.items():\n",
    "        if count_rev_dict.get(v)==None:\n",
    "            count_rev_dict[v] = [k]\n",
    "        else:\n",
    "            count_rev_dict[v] += [k]\n",
    "    return count_rev_dict\n",
    "\n",
    "def find_top_n_words(rev_dict, n = 20):\n",
    "    result = []\n",
    "    sorted_key = list(rev_dict.keys())\n",
    "    sorted_key.sort(reverse=True)\n",
    "    while len(result)!=n:\n",
    "        for key in sorted_key:\n",
    "            current_list = rev_dict[key]\n",
    "            for word in current_list:\n",
    "                if word==\"br\" or word==\"< br\": #special case\n",
    "                    continue\n",
    "                result.append(word)\n",
    "                if len(result)==n:\n",
    "                    return result\n",
    "    return result\n",
    "\n",
    "def build_pattern_dict(target_df, num_sample, first_pos, second_pos, starting_index = 0):\n",
    "    pattern_dict = {}\n",
    "    pattern_list = [first_pos, second_pos]\n",
    "    for i in range(starting_index, starting_index + num_sample):\n",
    "        review = target_df['review'][i]\n",
    "        review = review.lower()\n",
    "        regex = re.compile(\"<.*?>\")\n",
    "        review = re.sub(regex, '', review)\n",
    "        tokens = nltk.word_tokenize(review)\n",
    "        pos_tag_list = nltk.pos_tag(tokens)\n",
    "        for i in range(len(pos_tag_list)-1):\n",
    "            word_list = []\n",
    "            for j in range(2):\n",
    "                if pos_tag_list[j+i][1]==pattern_list[j]:\n",
    "                    word_list.append(pos_tag_list[j+i][0])\n",
    "            if len(word_list)==2:\n",
    "                combined = \" \".join(word_list)\n",
    "                if pattern_dict.get(combined)==None:\n",
    "                    pattern_dict[combined] = 1\n",
    "                else:\n",
    "                    pattern_dict[combined]+=1\n",
    "            else:\n",
    "                word_list = []\n",
    "    return pattern_dict\n",
    "\n",
    "def build_n_gram_dict(target_df, num_sample, starting_index = 0, n = 2):\n",
    "    n_gram_dict = {}\n",
    "    for i in range(starting_index, starting_index + num_sample):\n",
    "        review = target_df['cleaned_review'][i]\n",
    "        tokens = review.split(\" \")\n",
    "        tokens = [x for x in tokens if x!=\"br\"]\n",
    "        for i in range(len(tokens)-(n-1)):\n",
    "            word_list = []\n",
    "            for j in range(n):\n",
    "                word_list.append(tokens[i+j])\n",
    "            combined = \" \".join(word_list)\n",
    "            if n_gram_dict.get(combined)==None:\n",
    "                n_gram_dict[combined] = 1\n",
    "            else:\n",
    "                n_gram_dict[combined]+=1\n",
    "    return n_gram_dict"
   ]
  },
  {
   "cell_type": "code",
   "execution_count": 27,
   "metadata": {},
   "outputs": [
    {
     "name": "stdout",
     "output_type": "stream",
     "text": [
      "Top 20 2-Gram (Negative):\n",
      "['look like', 'ever see', 'watch movie', 'waste time', 'special effect', 'low budget', 'make movie', 'see movie', 'film make', 'movie make', 'main character', 'much better', 'seem like', 'one worst', 'make sense', 'make film', 'year old', 'even though', 'want see', 'bad movie']\n",
      "\n",
      "Top 20 3-Gram (Negative):\n",
      "['worst movie ever', 'movie ever see', 'worst film ever', 'film ever see', 'one worst movies', 'worst movies ever', 'movies ever see', 'waste time money', 'one worst film', 'movie ever make', 'film ever make', 'make look like', 'sci fi channel', 'bad act bad', 'waste time watch', 'complete waste time', 'low budget film', 'movie look like', 'movies ever make', 'go see movie']\n",
      "\n",
      "Top 20 4-Gram (Negative):\n",
      "['worst movie ever see', 'one worst movies ever', 'worst film ever see', 'worst movies ever see', 'one worst film ever', 'worst film ever make', 'worst movie ever make', 'worst movies ever make', 'life never get back', 'jean claude van damme', 'movie ever see life', 'one worst movies see', 'waste time watch movie', 'possibly worst movie ever', 'accord dvd sleeve synopsis', 'movie complete waste time', 'really want like movie', 'leave cut room floor', 'trivialboring trivialboring trivialboring trivialboring', 'could do better job']\n"
     ]
    }
   ],
   "source": [
    "my_dict = build_n_gram_dict(neg_df, num_sample, n=2)\n",
    "my_rev_dict = build_reverse_dict(my_dict)\n",
    "top_terms = find_top_n_words(my_rev_dict)\n",
    "print(\"Top 20 2-Gram (Negative):\\n%s\" % top_terms)\n",
    "print(\"\")\n",
    "\n",
    "my_dict = build_n_gram_dict(neg_df, num_sample, n=3)\n",
    "my_rev_dict = build_reverse_dict(my_dict)\n",
    "top_terms = find_top_n_words(my_rev_dict)\n",
    "print(\"Top 20 3-Gram (Negative):\\n%s\" % top_terms)\n",
    "print(\"\")\n",
    "\n",
    "my_dict = build_n_gram_dict(neg_df, num_sample, n=4)\n",
    "my_rev_dict = build_reverse_dict(my_dict)\n",
    "top_terms = find_top_n_words(my_rev_dict)\n",
    "print(\"Top 20 4-Gram (Negative):\\n%s\" % top_terms)"
   ]
  },
  {
   "cell_type": "code",
   "execution_count": 33,
   "metadata": {},
   "outputs": [
    {
     "name": "stdout",
     "output_type": "stream",
     "text": [
      "Top 20 POS Patterns (JJ NN- Negative):\n",
      "['low budget', 'main character', 'only thing', 'bad movie', 'i guess', 'good movie', 'high school', 'whole movie', 'whole thing', 'new york', 'good thing', 'only reason', 'first time', 'real life', 'same time', 'bad guy', 'long time', 'entire movie', 'first movie', 'first place']\n",
      "\n",
      "Top 20 POS Patterns (VBP NN- Negative):\n",
      "['have nothing', 'think i', 'are plenty', 'wish i', 'know i', 'are way', 'are nothing', 'have sex', 'do nothing', 'take place', 'do something', 'have something', 'know nothing', 'mean i', 'want something', 'feel sorry', 'believe i', 'have anything', 'i guess', 'am sorry']\n",
      "\n",
      "Top 20 POS Patterns (NN NN- Negative):\n",
      "['movie i', 'film i', 'horror movie', 'horror film', 'character development', 'time i', 'thing i', 'story line', 'camera work', 'i guess', 'reason i', 'tv series', 'tv movie', 'video store', 'plot line', 'action movie', 'tv show', 'science fiction', 'stock footage', 'film festival']\n"
     ]
    }
   ],
   "source": [
    "'''\n",
    "def build_reverse_dict(target_dict):\n",
    "    count_rev_dict = {}\n",
    "    for k,v in target_dict.items():\n",
    "        if count_rev_dict.get(v)==None:\n",
    "            count_rev_dict[v] = [k]\n",
    "        else:\n",
    "            count_rev_dict[v] += [k]\n",
    "    return count_rev_dict\n",
    "\n",
    "def find_top_n_words(rev_dict, n = 20):\n",
    "    result = []\n",
    "    sorted_key = list(rev_dict.keys())\n",
    "    sorted_key.sort(reverse=True)\n",
    "    while len(result)!=n:\n",
    "        for key in sorted_key:\n",
    "            current_list = rev_dict[key]\n",
    "            for word in current_list:\n",
    "                if word==\"br\" or word==\"< br\": #special case\n",
    "                    continue\n",
    "                result.append(word)\n",
    "                if len(result)==n:\n",
    "                    return result\n",
    "    return result\n",
    "\n",
    "def build_pattern_dict(target_df, num_sample, first_pos, second_pos, starting_index = 0):\n",
    "    pattern_dict = {}\n",
    "    pattern_list = [first_pos, second_pos]\n",
    "    for i in range(starting_index, starting_index + num_sample):\n",
    "        review = target_df['review'][i]\n",
    "        review = review.lower()\n",
    "        tokens = nltk.word_tokenize(review)\n",
    "        pos_tag_list = nltk.pos_tag(tokens)\n",
    "        for i in range(len(pos_tag_list)-1):\n",
    "            word_list = []\n",
    "            for j in range(2):\n",
    "                if pos_tag_list[j+i][1]==pattern_list[j]:\n",
    "                    word_list.append(pos_tag_list[j+i][0])\n",
    "            if len(word_list)==2:\n",
    "                combined = \" \".join(word_list)\n",
    "                if pattern_dict.get(combined)==None:\n",
    "                    pattern_dict[combined] = 1\n",
    "                else:\n",
    "                    pattern_dict[combined]+=1\n",
    "            else:\n",
    "                word_list = []\n",
    "    return pattern_dict\n",
    "'''\n",
    "my_dict = build_pattern_dict(neg_df, num_sample, \"JJ\", \"NN\")\n",
    "my_rev_dict = build_reverse_dict(my_dict)\n",
    "top_terms = find_top_n_words(my_rev_dict)\n",
    "print(\"Top 20 POS Patterns (JJ NN- Negative):\\n%s\" % top_terms)\n",
    "print(\"\")\n",
    "\n",
    "my_dict = build_pattern_dict(neg_df, num_sample, \"VBP\", \"NN\")\n",
    "my_rev_dict = build_reverse_dict(my_dict)\n",
    "top_terms = find_top_n_words(my_rev_dict)\n",
    "print(\"Top 20 POS Patterns (VBP NN- Negative):\\n%s\" % top_terms)\n",
    "print(\"\")\n",
    "\n",
    "my_dict = build_pattern_dict(neg_df, num_sample, \"NN\", \"NN\")\n",
    "my_rev_dict = build_reverse_dict(my_dict)\n",
    "top_terms = find_top_n_words(my_rev_dict)\n",
    "print(\"Top 20 POS Patterns (NN NN- Negative):\\n%s\" % top_terms)"
   ]
  },
  {
   "cell_type": "markdown",
   "metadata": {},
   "source": [
    "### Top 20 Terms (Using cleaned reviews)"
   ]
  },
  {
   "cell_type": "code",
   "execution_count": 53,
   "metadata": {},
   "outputs": [
    {
     "name": "stdout",
     "output_type": "stream",
     "text": [
      "Top 20 Terms (Negative):\n",
      "['movie', 'film', 'one', 'make', 'like', 'see', 'get', 'even', 'time', 'watch', 'go', 'good', 'bad', 'character', 'would', 'think', 'really', 'look', 'say', 'act']\n"
     ]
    }
   ],
   "source": [
    "def build_occur_dict(target_df, num_sample, starting_index = 0):\n",
    "    count_dict = {}\n",
    "    for i in range(starting_index, starting_index + num_sample):\n",
    "        review = target_df['cleaned_review'][i]\n",
    "        for word in review.split(\" \"):\n",
    "            if count_dict.get(word)==None:\n",
    "                count_dict[word] = 1\n",
    "            else:\n",
    "                count_dict[word] += 1\n",
    "    return count_dict\n",
    "\n",
    "my_dict = build_occur_dict(neg_df, num_sample)\n",
    "my_rev_dict = build_reverse_dict(my_dict)\n",
    "top_terms = find_top_n_words(my_rev_dict)\n",
    "print(\"Top 20 Terms (Negative):\\n%s\" % top_terms)"
   ]
  },
  {
   "cell_type": "markdown",
   "metadata": {},
   "source": [
    "# Dimension Reduction Analysis"
   ]
  },
  {
   "cell_type": "code",
   "execution_count": 3,
   "metadata": {},
   "outputs": [],
   "source": [
    "from sklearn.decomposition import TruncatedSVD\n",
    "from sklearn.feature_extraction.text import CountVectorizer\n",
    "from sklearn.feature_extraction.text import TfidfVectorizer"
   ]
  },
  {
   "cell_type": "code",
   "execution_count": 4,
   "metadata": {},
   "outputs": [],
   "source": [
    "#Projects to dimension specified. Default=2\n",
    "def project_nd(data,label, num_comp=2):\n",
    "    svd = TruncatedSVD(n_components=num_comp)\n",
    "    projected = svd.fit_transform(data)\n",
    "    print(projected.shape)\n",
    "    plt.scatter(projected[:, 0], projected[:, 1], edgecolor='none', alpha=0.5)\n",
    "    plt.xlabel('Component 1')\n",
    "    plt.ylabel('Component 2')\n",
    "    plt.show();\n",
    "    return projected\n",
    "\n",
    "def components_analysis(data,num_comp=200):\n",
    "    svd = TruncatedSVD(n_components=num_comp).fit(data)\n",
    "    plt.plot(np.cumsum(svd.explained_variance_ratio_))\n",
    "    plt.xlabel('Number of Components')\n",
    "    plt.ylabel('Cumulative Explained Variance')\n",
    "    plt.show()\n",
    "    print(\"Explained variance ratio sum of %d components: %f\" % (num_comp,svd.explained_variance_ratio_.sum()))"
   ]
  },
  {
   "cell_type": "markdown",
   "metadata": {},
   "source": [
    "## TruncatedSVD (CountVectorizer)"
   ]
  },
  {
   "cell_type": "code",
   "execution_count": 5,
   "metadata": {},
   "outputs": [
    {
     "name": "stdout",
     "output_type": "stream",
     "text": [
      "Number of unique vocabulary (min_df=1): 86237\n",
      "Number of unique vocabulary (min_df=2): 48565\n"
     ]
    }
   ],
   "source": [
    "X = df['cleaned_review'].values\n",
    "y = df['label'].values\n",
    "\n",
    "count_vect_def = CountVectorizer()\n",
    "count_vect = CountVectorizer(min_df=2)\n",
    "\n",
    "X_count_def = count_vect_def.fit_transform(X)\n",
    "X_count = count_vect.fit_transform(X)\n",
    "print(\"Number of unique vocabulary (min_df=1): %d\" % len(count_vect_def.get_feature_names()))\n",
    "print(\"Number of unique vocabulary (min_df=2): %d\" % len(count_vect.get_feature_names()))"
   ]
  },
  {
   "cell_type": "code",
   "execution_count": 6,
   "metadata": {},
   "outputs": [
    {
     "name": "stdout",
     "output_type": "stream",
     "text": [
      "(50000, 2)\n"
     ]
    },
    {
     "data": {
      "image/png": "[encoded data removed]",
      "text/plain": [
       "<Figure size 432x288 with 1 Axes>"
      ]
     },
     "metadata": {
      "needs_background": "light"
     },
     "output_type": "display_data"
    },
    {
     "data": {
      "image/png": "[encoded data removed]",
      "text/plain": [
       "<Figure size 432x288 with 1 Axes>"
      ]
     },
     "metadata": {
      "needs_background": "light"
     },
     "output_type": "display_data"
    },
    {
     "name": "stdout",
     "output_type": "stream",
     "text": [
      "Explained variance ratio sum of 4000 components: 0.909909\n"
     ]
    }
   ],
   "source": [
    "project_nd(X_count, y)\n",
    "components_analysis(X_count, num_comp=4000)"
   ]
  },
  {
   "cell_type": "markdown",
   "metadata": {},
   "source": [
    "## TruncatedSVD (TfidfVectorizer)"
   ]
  },
  {
   "cell_type": "code",
   "execution_count": 7,
   "metadata": {},
   "outputs": [
    {
     "name": "stdout",
     "output_type": "stream",
     "text": [
      "Number of unique vocabulary (min_df=1): 86237\n",
      "Number of unique vocabulary (min_df=2): 48565\n"
     ]
    }
   ],
   "source": [
    "tfidf_vect_def = TfidfVectorizer()\n",
    "tfidf_vect = TfidfVectorizer(min_df=2)\n",
    "\n",
    "X_tfidf_def = tfidf_vect_def.fit_transform(X)\n",
    "X_tfidf = tfidf_vect.fit_transform(X)\n",
    "print(\"Number of unique vocabulary (min_df=1): %d\" % len(tfidf_vect_def.get_feature_names()))\n",
    "print(\"Number of unique vocabulary (min_df=2): %d\" % len(tfidf_vect.get_feature_names()))"
   ]
  },
  {
   "cell_type": "code",
   "execution_count": 8,
   "metadata": {},
   "outputs": [
    {
     "name": "stdout",
     "output_type": "stream",
     "text": [
      "(50000, 2)\n"
     ]
    },
    {
     "data": {
      "image/png": "[encoded data removed]",
      "text/plain": [
       "<Figure size 432x288 with 1 Axes>"
      ]
     },
     "metadata": {
      "needs_background": "light"
     },
     "output_type": "display_data"
    },
    {
     "data": {
      "image/png": "[encoded data removed]",
      "text/plain": [
       "<Figure size 432x288 with 1 Axes>"
      ]
     },
     "metadata": {
      "needs_background": "light"
     },
     "output_type": "display_data"
    },
    {
     "name": "stdout",
     "output_type": "stream",
     "text": [
      "Explained variance ratio sum of 4000 components: 0.698443\n"
     ]
    }
   ],
   "source": [
    "project_nd(X_tfidf, y)\n",
    "components_analysis(X_tfidf, num_comp=4000)"
   ]
  },
  {
   "cell_type": "markdown",
   "metadata": {},
   "source": [
    "## Positive Reviews Exploration"
   ]
  },
  {
   "cell_type": "code",
   "execution_count": 28,
   "metadata": {},
   "outputs": [
    {
     "name": "stdout",
     "output_type": "stream",
     "text": [
      "There are 25000 positive reviews.\n"
     ]
    }
   ],
   "source": [
    "pos_df = df[df['label']==1]\n",
    "num_sample, num_col = pos_df.shape\n",
    "print(\"There are %d positive reviews.\" % num_sample)"
   ]
  },
  {
   "cell_type": "markdown",
   "metadata": {},
   "source": [
    "### Top 20 N-Gram (Using cleaned reviews)"
   ]
  },
  {
   "cell_type": "code",
   "execution_count": 29,
   "metadata": {},
   "outputs": [
    {
     "name": "stdout",
     "output_type": "stream",
     "text": [
      "Top 20 2-Gram (Positive):\n",
      "['one best', 'see movie', 'watch movie', 'film make', 'even though', 'ever see', 'see film', 'first time', 'make film', 'look like', 'highly recommend', 'new york', 'main character', 'must see', 'special effect', 'watch film', 'take place', 'make movie', 'real life', 'years ago']\n",
      "\n",
      "Top 20 3-Gram (Positive):\n",
      "['new york city', 'film ever make', 'world war ii', 'one best film', 'one best movies', 'film ever see', 'movie ever see', 'base true story', 'movies ever see', 'well worth watch', 'first time saw', 'would like see', 'would love see', 'first saw movie', 'see long time', 'go see movie', 'highly recommend movie', 'international film festival', 'rock n roll', 'movies ever make']\n",
      "\n",
      "Top 20 4-Gram (Positive):\n",
      "['one best movies ever', 'one best movies see', 'best movie ever see', 'one best film see', 'vote eight title brazil', 'one best film ever', 'vote seven title brazil', 'well write well act', 'tony hawk pro skater', 'best movies ever see', 'good guy bad guy', 'oz greatest show ever', 'greatest show ever mad', 'show ever mad full', 'best film ever make', 'toronto international film festival', 'ever mad full stop', 'mad full stop oz', 'full stop oz greatest', 'stop oz greatest show']\n"
     ]
    }
   ],
   "source": [
    "my_dict = build_n_gram_dict(pos_df, num_sample, num_sample, n=2)\n",
    "my_rev_dict = build_reverse_dict(my_dict)\n",
    "top_terms = find_top_n_words(my_rev_dict)\n",
    "print(\"Top 20 2-Gram (Positive):\\n%s\" % top_terms)\n",
    "print(\"\")\n",
    "\n",
    "my_dict = build_n_gram_dict(pos_df, num_sample, num_sample, n=3)\n",
    "my_rev_dict = build_reverse_dict(my_dict)\n",
    "top_terms = find_top_n_words(my_rev_dict)\n",
    "print(\"Top 20 3-Gram (Positive):\\n%s\" % top_terms)\n",
    "print(\"\")\n",
    "\n",
    "my_dict = build_n_gram_dict(pos_df, num_sample,num_sample, n=4)\n",
    "my_rev_dict = build_reverse_dict(my_dict)\n",
    "top_terms = find_top_n_words(my_rev_dict)\n",
    "print(\"Top 20 4-Gram (Positive):\\n%s\" % top_terms)"
   ]
  },
  {
   "cell_type": "markdown",
   "metadata": {},
   "source": [
    "### Top 20 POS Pattern (Using original reviews)"
   ]
  },
  {
   "cell_type": "code",
   "execution_count": 34,
   "metadata": {},
   "outputs": [
    {
     "name": "stdout",
     "output_type": "stream",
     "text": [
      "Top 20 POS Patterns (JJ NN- Positive):\n",
      "['first time', 'new york', 'same time', 'great movie', 'real life', 'good movie', 'high school', 'great film', 'long time', 'main character', 'good job', 'great job', 'low budget', 'young man', 'good film', 'little bit', 'true story', 'first film', 'other hand', 'i guess']\n",
      "\n",
      "Top 20 POS Patterns (VBP NN- Positive):\n",
      "['know i', 'are plenty', 'have nothing', 'think i', 'take place', 'wish i', 'are part', 'are nothing', 'have something', 'know nothing', 'are way', 'think everyone', 'want something', 'love lucy', 'believe i', 'are today', 'have sex', 'am glad', 'know something', 'have trouble']\n",
      "\n",
      "Top 20 POS Patterns (NN NN- Positive):\n",
      "['movie i', 'film i', 'time i', 'world war', 'horror film', 'film festival', 'love story', 'tv series', 'story line', 'horror movie', 'thing i', 'character development', 'science fiction', 'tv show', 'camera work', 'york city', 'box office', 'motion picture', 'star trek', 'action movie']\n"
     ]
    }
   ],
   "source": [
    "my_dict = build_pattern_dict(pos_df, num_sample, \"JJ\", \"NN\", num_sample)\n",
    "my_rev_dict = build_reverse_dict(my_dict)\n",
    "top_terms = find_top_n_words(my_rev_dict)\n",
    "print(\"Top 20 POS Patterns (JJ NN- Positive):\\n%s\" % top_terms)\n",
    "print(\"\")\n",
    "\n",
    "my_dict = build_pattern_dict(pos_df, num_sample, \"VBP\", \"NN\", num_sample)\n",
    "my_rev_dict = build_reverse_dict(my_dict)\n",
    "top_terms = find_top_n_words(my_rev_dict)\n",
    "print(\"Top 20 POS Patterns (VBP NN- Positive):\\n%s\" % top_terms)\n",
    "print(\"\")\n",
    "\n",
    "my_dict = build_pattern_dict(pos_df, num_sample, \"NN\", \"NN\", num_sample)\n",
    "my_rev_dict = build_reverse_dict(my_dict)\n",
    "top_terms = find_top_n_words(my_rev_dict)\n",
    "print(\"Top 20 POS Patterns (NN NN- Positive):\\n%s\" % top_terms)"
   ]
  },
  {
   "cell_type": "markdown",
   "metadata": {},
   "source": [
    "### Top 20 Terms (Using cleaned reviews)"
   ]
  },
  {
   "cell_type": "code",
   "execution_count": 60,
   "metadata": {},
   "outputs": [
    {
     "name": "stdout",
     "output_type": "stream",
     "text": [
      "Top 20 Terms (Positive):\n",
      "['film', 'movie', 'one', 'see', 'make', 'like', 'time', 'get', 'good', 'character', 'well', 'great', 'story', 'watch', 'go', 'show', 'love', 'think', 'also', 'really']\n"
     ]
    }
   ],
   "source": [
    "my_dict = build_occur_dict(pos_df, num_sample, num_sample)\n",
    "my_rev_dict = build_reverse_dict(my_dict)\n",
    "top_terms = find_top_n_words(my_rev_dict)\n",
    "print(\"Top 20 Terms (Positive):\\n%s\" % top_terms)"
   ]
  }
 ],
 "metadata": {
  "kernelspec": {
   "display_name": "Python 3",
   "language": "python",
   "name": "python3"
  },
  "language_info": {
   "codemirror_mode": {
    "name": "ipython",
    "version": 3
   },
   "file_extension": ".py",
   "mimetype": "text/x-python",
   "name": "python",
   "nbconvert_exporter": "python",
   "pygments_lexer": "ipython3",
   "version": "3.7.3"
  }
 },
 "nbformat": 4,
 "nbformat_minor": 2
}
